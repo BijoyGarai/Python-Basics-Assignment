{
  "cells": [
    {
      "cell_type": "code",
      "execution_count": null,
      "metadata": {
        "id": "hGkov2mKvZvG"
      },
      "outputs": [],
      "source": [
        "# 1) Explain the key features of Python that make it a popular choice for programming?\n",
        "# Ans: Python is compatible with various programming paradigms, such as procedural, object-oriented, and functional programming,\n",
        "# also it has a large and active community of developers, an extensive standard library, and third-party packages for various domains.\n",
        "# And it is easy to understand and write, making it a popular choice among developers and programmers."
      ]
    },
    {
      "cell_type": "code",
      "execution_count": null,
      "metadata": {
        "colab": {
          "base_uri": "https://localhost:8080/"
        },
        "id": "UaJMsygjwfHz",
        "outputId": "f67f263a-c9d0-4b5e-f17a-b35e057cca0e"
      },
      "outputs": [
        {
          "name": "stdout",
          "output_type": "stream",
          "text": [
            "Bijoy\n",
            "1234\n"
          ]
        },
        {
          "data": {
            "text/plain": [
              "str"
            ]
          },
          "execution_count": 14,
          "metadata": {},
          "output_type": "execute_result"
        }
      ],
      "source": [
        "# 2) Describe the role of predefined keywords in Python and provide examples of how they are used in a program?\n",
        "# Ans: Keywords are reserved words in Python that have special meanings and cannot be used as identifiers\n",
        "# such as: print, type, if, True, False etc.\n",
        "print(\"Bijoy\")\n",
        "print(1234) # So here as we can see print has a special purpose which is to print everything we write inside the bracket of it.\n",
        "type(\"Bijoy\") # and type is also a keyword which tells us what type of data we have put inside the code.\n"
      ]
    },
    {
      "cell_type": "code",
      "execution_count": null,
      "metadata": {
        "colab": {
          "base_uri": "https://localhost:8080/"
        },
        "id": "_vneGy7Xu0xG",
        "outputId": "412d8725-d706-47e6-93ff-e7260bb6f4c7"
      },
      "outputs": [
        {
          "data": {
            "text/plain": [
              "[7, 5, 'Bijoy', 'Data', 'Analytics']"
            ]
          },
          "execution_count": 26,
          "metadata": {},
          "output_type": "execute_result"
        }
      ],
      "source": [
        "# 3) Compare and contrast mutable and immutable obbects in Python with examples.\n",
        "# Mutable Objects: These are objects/container whose state or value can be changed after they are created. such as list, dictionaries.\n",
        "# Immutable Objects: These are objects/container whose state or value can not be changed after they are created. Such as string.\n",
        "A = [7,5,\"Bijoy\",\"Data\",\"Analytics\"] # These is a set of datas inside the list A. Now we can change each of the data by a different one.\n",
        "A"
      ]
    },
    {
      "cell_type": "code",
      "execution_count": null,
      "metadata": {
        "colab": {
          "base_uri": "https://localhost:8080/",
          "height": 35
        },
        "id": "AfQD05mAy7oV",
        "outputId": "f6c0be90-a969-4002-ae79-335a39fa83ba"
      },
      "outputs": [
        {
          "data": {
            "application/vnd.google.colaboratory.intrinsic+json": {
              "type": "string"
            },
            "text/plain": [
              "'Data'"
            ]
          },
          "execution_count": 27,
          "metadata": {},
          "output_type": "execute_result"
        }
      ],
      "source": [
        "A[3] # Here the 3rd block is Data."
      ]
    },
    {
      "cell_type": "code",
      "execution_count": null,
      "metadata": {
        "id": "5tMfMM2z0u68"
      },
      "outputs": [],
      "source": [
        "A[3] = \"Ram\""
      ]
    },
    {
      "cell_type": "code",
      "execution_count": null,
      "metadata": {
        "colab": {
          "base_uri": "https://localhost:8080/"
        },
        "id": "OUndmsFy0_UL",
        "outputId": "ffd595f1-632e-4971-8c8f-93c993fe74ec"
      },
      "outputs": [
        {
          "data": {
            "text/plain": [
              "[7, 5, 'Bijoy', 'Ram', 'Analytics']"
            ]
          },
          "execution_count": 30,
          "metadata": {},
          "output_type": "execute_result"
        }
      ],
      "source": [
        "A # Here as we can see that the 3rd block which was Data is now replaced by Ram. So list is a mutable object."
      ]
    },
    {
      "cell_type": "code",
      "execution_count": null,
      "metadata": {
        "colab": {
          "base_uri": "https://localhost:8080/",
          "height": 35
        },
        "id": "kQii0VTQ1Jni",
        "outputId": "85ba4fae-8c70-400f-b775-aad933f2c4e5"
      },
      "outputs": [
        {
          "data": {
            "application/vnd.google.colaboratory.intrinsic+json": {
              "type": "string"
            },
            "text/plain": [
              "'Assignment'"
            ]
          },
          "execution_count": 31,
          "metadata": {},
          "output_type": "execute_result"
        }
      ],
      "source": [
        "B = \"Assignment\"\n",
        "B"
      ]
    },
    {
      "cell_type": "code",
      "execution_count": null,
      "metadata": {
        "colab": {
          "base_uri": "https://localhost:8080/",
          "height": 141
        },
        "id": "lMrieq-R1kAJ",
        "outputId": "72c6aca4-8f98-4729-d7b0-d5dce24ffd44"
      },
      "outputs": [
        {
          "ename": "TypeError",
          "evalue": "'str' object does not support item assignment",
          "output_type": "error",
          "traceback": [
            "\u001b[0;31m---------------------------------------------------------------------------\u001b[0m",
            "\u001b[0;31mTypeError\u001b[0m                                 Traceback (most recent call last)",
            "\u001b[0;32m<ipython-input-33-f5120c7be086>\u001b[0m in \u001b[0;36m<cell line: 1>\u001b[0;34m()\u001b[0m\n\u001b[0;32m----> 1\u001b[0;31m \u001b[0mB\u001b[0m\u001b[0;34m[\u001b[0m\u001b[0;36m6\u001b[0m\u001b[0;34m]\u001b[0m \u001b[0;34m=\u001b[0m \u001b[0;36m4\u001b[0m\u001b[0;34m\u001b[0m\u001b[0;34m\u001b[0m\u001b[0m\n\u001b[0m",
            "\u001b[0;31mTypeError\u001b[0m: 'str' object does not support item assignment"
          ]
        }
      ],
      "source": [
        "B[6] = 4 # Now here we can see that we cannot assign new value in a memory block because 'str' object does not support item assignment.\n",
        "# That's why string is Immutable object.\n"
      ]
    },
    {
      "cell_type": "code",
      "execution_count": null,
      "metadata": {
        "colab": {
          "base_uri": "https://localhost:8080/"
        },
        "id": "a_orP9yp16gv",
        "outputId": "d7c3d167-1ba9-4016-ab82-18fd09d549ea"
      },
      "outputs": [
        {
          "data": {
            "text/plain": [
              "(10, 3, 48, 5.0, 3)"
            ]
          },
          "execution_count": 40,
          "metadata": {},
          "output_type": "execute_result"
        }
      ],
      "source": [
        "# 4) Discuss the different types of operators in Python and provide examples of how they are used.\n",
        "# Ans: Operators are special symbols or keywords that are used to carry out specific actions on numbers or variables in Python expressions.\n",
        "# Python supports various types of operators, including arithmetic operators (+, -, *, /), comparison operators (==, !=, <, >),\n",
        "# logical operators (and, or, not), assignment operators (=, +=, -=, *=, /=), etc.\n",
        "7+3,  9-6, 6*8, 10/2, 15%4 # Here we can see that arithmetic operators are used to calculate basic mathematical operations.\n"
      ]
    },
    {
      "cell_type": "code",
      "execution_count": null,
      "metadata": {
        "colab": {
          "base_uri": "https://localhost:8080/"
        },
        "id": "dceifL8R3pAy",
        "outputId": "4be4e079-9b3d-4a1f-c187-c56a45e77dbf"
      },
      "outputs": [
        {
          "data": {
            "text/plain": [
              "(True, False, True)"
            ]
          },
          "execution_count": 44,
          "metadata": {},
          "output_type": "execute_result"
        }
      ],
      "source": [
        "5==5 , 5==7 , 7>1 # Here we can see that comparisons operators are used to compare both the values and if that is correct it is showing True otherwise\n",
        "# it is False."
      ]
    },
    {
      "cell_type": "code",
      "execution_count": null,
      "metadata": {
        "colab": {
          "base_uri": "https://localhost:8080/"
        },
        "id": "6QZe-DK94xJG",
        "outputId": "47f39fde-40b6-4933-96ad-7ebec008174c"
      },
      "outputs": [
        {
          "name": "stdout",
          "output_type": "stream",
          "text": [
            "<class 'str'>\n",
            "<class 'int'>\n"
          ]
        }
      ],
      "source": [
        "# 5) Explain the concept of type casting in Python with examples.\n",
        "# Type Castintg- It is the preocess of changing the data type of a value/object.\n",
        "#string to integer\n",
        "m = \"64\"\n",
        "print(type(m))\n",
        "print(type(int(m))) # Here the value of string has been changed into an integer."
      ]
    },
    {
      "cell_type": "code",
      "execution_count": null,
      "metadata": {
        "colab": {
          "base_uri": "https://localhost:8080/"
        },
        "id": "0DA8cYj25_kW",
        "outputId": "c43dc6f3-ffe9-40ed-f4bd-e865100ed134"
      },
      "outputs": [
        {
          "name": "stdout",
          "output_type": "stream",
          "text": [
            "<class 'float'>\n"
          ]
        },
        {
          "data": {
            "text/plain": [
              "5"
            ]
          },
          "execution_count": 51,
          "metadata": {},
          "output_type": "execute_result"
        }
      ],
      "source": [
        "# float into integer\n",
        "x = 5.6\n",
        "print(type(x))\n",
        "int(x)"
      ]
    },
    {
      "cell_type": "code",
      "execution_count": null,
      "metadata": {
        "colab": {
          "base_uri": "https://localhost:8080/"
        },
        "id": "b8iAQJS677YF",
        "outputId": "7c5adc2a-2e63-4b05-90cb-d79a0d7f3c91"
      },
      "outputs": [
        {
          "data": {
            "text/plain": [
              "int"
            ]
          },
          "execution_count": 52,
          "metadata": {},
          "output_type": "execute_result"
        }
      ],
      "source": [
        "type(int(x)) # Her the value of float has been changed into integer."
      ]
    },
    {
      "cell_type": "code",
      "execution_count": null,
      "metadata": {
        "colab": {
          "base_uri": "https://localhost:8080/"
        },
        "id": "jwk3lFhC8NNL",
        "outputId": "e78aa121-b663-4bb9-bb59-e303ad8713ea"
      },
      "outputs": [
        {
          "output_type": "stream",
          "name": "stdout",
          "text": [
            "I will go to the theater\n"
          ]
        }
      ],
      "source": [
        "# 6) How do conditional statements work in Python? Illustrate with examples.\n",
        "# Ans: Conditionals in Python are used to execute code based on the evaluation of one or more conditions.\n",
        "# Python supports conditional statements such as if, elif (else if), and else to control the flow of execution.\n",
        "# if >> will be executed if the condition is true.\n",
        "review = \"good\"\n",
        "if review == \"good\":\n",
        "  print(\"I will go to the theater\") # So it will execute the if block, if the condition is true."
      ]
    },
    {
      "cell_type": "code",
      "execution_count": null,
      "metadata": {
        "id": "hYBChh1D9zgj",
        "colab": {
          "base_uri": "https://localhost:8080/"
        },
        "outputId": "4d293904-a6b3-4633-d9c8-9897b621b95f"
      },
      "outputs": [
        {
          "output_type": "stream",
          "name": "stdout",
          "text": [
            "I will not go to the theater\n"
          ]
        }
      ],
      "source": [
        "#if else >> if block will be executed when the condition is true else it will be the else block\n",
        "review = \" not good\"\n",
        "if review == \"good\":\n",
        "  print(\"I will go to the theater\")\n",
        "else:\n",
        "  print(\"I will not go to the theater\")\n",
        "# Here the condition is not true that's why else block is executed."
      ]
    },
    {
      "cell_type": "code",
      "source": [
        "score = 69\n",
        "if score >= 90:\n",
        "    print(\"grade A\")\n",
        "elif (80<=score<90):\n",
        "    print(\"Grade B\")\n",
        "elif (70<=score<80):\n",
        "    print(\"Grade C\")\n",
        "elif (60<=score<70):\n",
        "    print(\"Grade D\")\n",
        "elif (45<=score<60):\n",
        "    print(\"Grade E\")\n",
        "else:\n",
        "    print(\"Grade F\")\n",
        "# Here we can calculate multiple scenarios using elif."
      ],
      "metadata": {
        "id": "RnY_mJclAxd1",
        "colab": {
          "base_uri": "https://localhost:8080/"
        },
        "outputId": "6d6d3c16-bcd4-4bb3-942a-2b278464b107"
      },
      "execution_count": null,
      "outputs": [
        {
          "output_type": "stream",
          "name": "stdout",
          "text": [
            "Grade D\n"
          ]
        }
      ]
    },
    {
      "cell_type": "code",
      "source": [
        "# 7) Describe the different types of loops in Python and their use cases with examples.\n",
        "# Ans: Loop statements allow us to execute a block of code repeatedly. There are two types of loop statements\n",
        "# in Python: for loop and while loop.\n",
        "# Example of while loop:\n",
        "i = 1\n",
        "while i <= 10:\n",
        "    print(i)\n",
        "    i += 1\n",
        "else:\n",
        "    print(\"loop completed without any break\")"
      ],
      "metadata": {
        "colab": {
          "base_uri": "https://localhost:8080/"
        },
        "id": "QQP-rSwxZbBs",
        "outputId": "41ed4d21-d74f-47a0-d1ca-8abc408bf2a6"
      },
      "execution_count": null,
      "outputs": [
        {
          "output_type": "stream",
          "name": "stdout",
          "text": [
            "1\n",
            "2\n",
            "3\n",
            "4\n",
            "5\n",
            "6\n",
            "7\n",
            "8\n",
            "9\n",
            "10\n",
            "loop completed without any break\n"
          ]
        }
      ]
    },
    {
      "cell_type": "code",
      "source": [
        "# Example of while loop using break and continue:\n",
        "n = 7\n",
        "i = 1\n",
        "while i < n:\n",
        "    print(i)\n",
        "    i = i+1\n",
        "    if i == 3:\n",
        "        continue\n",
        "    elif i == 6:\n",
        "        break\n",
        "else:\n",
        "    print(\"This will be executed when the while is run successfuly without any break\")\n",
        "# Here the as the condition has met so it exits the loop means the loop is broken."
      ],
      "metadata": {
        "colab": {
          "base_uri": "https://localhost:8080/"
        },
        "id": "esV8q6R6bSa_",
        "outputId": "84accaf7-252f-4f97-f7c4-532ec1ab6e9a"
      },
      "execution_count": null,
      "outputs": [
        {
          "output_type": "stream",
          "name": "stdout",
          "text": [
            "1\n",
            "2\n",
            "3\n",
            "4\n",
            "5\n"
          ]
        }
      ]
    },
    {
      "cell_type": "code",
      "source": [
        "# Example of for loop:\n",
        "for i in range(1,10):\n",
        "    print(i)\n",
        "else:\n",
        "    print(\"loop completed without any break\")"
      ],
      "metadata": {
        "colab": {
          "base_uri": "https://localhost:8080/"
        },
        "id": "DCzQFZhncK4n",
        "outputId": "3b76903b-7e06-4427-aa31-4b3a64440898"
      },
      "execution_count": null,
      "outputs": [
        {
          "output_type": "stream",
          "name": "stdout",
          "text": [
            "1\n",
            "2\n",
            "3\n",
            "4\n",
            "5\n",
            "6\n",
            "7\n",
            "8\n",
            "9\n",
            "loop completed without any break\n"
          ]
        }
      ]
    },
    {
      "cell_type": "code",
      "source": [
        "# Example of for loop using break statement:\n",
        "for i in range(1,10):\n",
        "    print(i)\n",
        "    if i == 5:\n",
        "        break\n",
        "else:\n",
        "    print(\"loop completed without any break\")\n",
        "# Here the as the condition has met so it exits the loop means the loop is broken."
      ],
      "metadata": {
        "colab": {
          "base_uri": "https://localhost:8080/"
        },
        "id": "yhd1ds__eHfr",
        "outputId": "626a0568-0604-46fb-afa8-efe96eb805b3"
      },
      "execution_count": null,
      "outputs": [
        {
          "output_type": "stream",
          "name": "stdout",
          "text": [
            "1\n",
            "2\n",
            "3\n",
            "4\n",
            "5\n"
          ]
        }
      ]
    },
    {
      "cell_type": "code",
      "source": [],
      "metadata": {
        "id": "SEfI3BWieila"
      },
      "execution_count": null,
      "outputs": []
    }
  ],
  "metadata": {
    "colab": {
      "provenance": []
    },
    "kernelspec": {
      "display_name": "Python 3",
      "name": "python3"
    },
    "language_info": {
      "name": "python"
    }
  },
  "nbformat": 4,
  "nbformat_minor": 0
}